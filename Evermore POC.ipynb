{
 "cells": [
  {
   "cell_type": "code",
   "execution_count": 1,
   "id": "infectious-limitation",
   "metadata": {},
   "outputs": [],
   "source": [
    "import json\n",
    "import time\n",
    "import random"
   ]
  },
  {
   "cell_type": "code",
   "execution_count": 2,
   "id": "competent-capital",
   "metadata": {},
   "outputs": [],
   "source": [
    "with open(\"./evermore.json\", encoding='utf-8') as f:\n",
    "    data = json.load(f)"
   ]
  },
  {
   "cell_type": "code",
   "execution_count": 3,
   "id": "fossil-recording",
   "metadata": {},
   "outputs": [],
   "source": [
    "def milli_convert(n): \n",
    "    return time.strftime(\"%M:%S\", time.gmtime(n/1000)) "
   ]
  },
  {
   "cell_type": "code",
   "execution_count": 4,
   "id": "focal-distribution",
   "metadata": {},
   "outputs": [],
   "source": [
    "titles_lengths = [\n",
    "    data[\"items\"][i][\"name\"] \n",
    "    + \": \" \n",
    "    + str(milli_convert(data[\"items\"][i][\"duration_ms\"])) \n",
    "          for i in range(0,len(data[\"items\"]))]\n",
    "print(*titles_lengths, sep = \"\\n\")"
   ]
  },
  {
   "cell_type": "code",
   "execution_count": 6,
   "id": "brutal-recognition",
   "metadata": {},
   "outputs": [],
   "source": [
    "def milliround(x, base=10000):\n",
    "    # gives us 10 seconds of wiggle-room: this could probably be set by the user\n",
    "    return base * round(x/base)"
   ]
  },
  {
   "cell_type": "code",
   "execution_count": 7,
   "id": "herbal-delight",
   "metadata": {},
   "outputs": [],
   "source": [
    "# get the number of songs on the album\n",
    "item_count = len(data[\"items\"])\n",
    "\n",
    "# create a dictionary of name + length in ms\n",
    "time_dict = dict(\n",
    "    zip(\n",
    "        [data[\"items\"][i][\"name\"] for i in range(0,item_count)], \n",
    "         [data[\"items\"][i][\"duration_ms\"] for i in range(0,item_count)]\n",
    "    )\n",
    ")\n"
   ]
  },
  {
   "cell_type": "code",
   "execution_count": 31,
   "id": "constant-anger",
   "metadata": {},
   "outputs": [],
   "source": [
    "# Function to check if quadruplet exists in a list with the given sum\n",
    "def quadTest(A, n, ttl):\n",
    " \n",
    "    # create an empty dictionary\n",
    "    # `key` —> sum of a pair in the list\n",
    "    # `value` —> list storing an index of every pair having that sum\n",
    "    new_dict = {}\n",
    "    \n",
    "    # convert minutes to milliseconds\n",
    "    ttl = ttl * 60000\n",
    "    \n",
    "    # shuffle the dictionary so we don't always have the same songs returned\n",
    "    l = list(A.items())\n",
    "    random.shuffle(l)\n",
    "    d = dict(l)\n",
    "    \n",
    "    # parse out times and song titles\n",
    "    time_list = list(d.values())\n",
    "    song_list = list(d.keys())\n",
    " \n",
    "    # consider each element except the last element\n",
    "    for i in range(n - 1):\n",
    " \n",
    "        # start from the i'th element until the last element\n",
    "        for j in range(i + 1, n):\n",
    " \n",
    "            # calculate the remaining sum\n",
    "            # round the total here for the tolerance input above\n",
    "            val = ttl - milliround(time_list[i] + time_list[j])\n",
    " \n",
    "            # if the remaining sum is found on the dictionary,\n",
    "            # we have found a quadruplet\n",
    "            if val in new_dict:\n",
    " \n",
    "                # check every pair having a sum equal to the remaining sum\n",
    "                for pair in new_dict[val]:\n",
    "                    x, y = pair\n",
    " \n",
    "                    # if quadruplet doesn't overlap, print it and return true\n",
    "                    if (x != i and x != j) and (y != i and y != j):\n",
    "                        # songs\n",
    "                        results_list = [song_list[i], song_list[j], song_list[x], song_list[y]]\n",
    "                        # song lengths\n",
    "                        length_list = [time_list[i], time_list[j], time_list[x], time_list[y]]\n",
    "                        # sum up the total play time\n",
    "                        play_time = sum(length_list)\n",
    "                        print(milli_convert(play_time), *results_list, sep = \"\\n\")\n",
    "                        return True\n",
    " \n",
    "            # insert the current pair (rounded) into the dictionary\n",
    "            new_dict.setdefault(milliround(time_list[i] + time_list[j]), []).append((i, j))\n",
    " \n",
    "    # return false if quadruplet doesn't exist\n",
    "    return False"
   ]
  },
  {
   "cell_type": "code",
   "execution_count": 43,
   "id": "traditional-guess",
   "metadata": {},
   "outputs": [
    {
     "name": "stdout",
     "output_type": "stream",
     "text": [
      "How many minutes of music do you want? 16\n"
     ]
    }
   ],
   "source": [
    "ttl = int(input(\"How many minutes of music do you want? \"))"
   ]
  },
  {
   "cell_type": "code",
   "execution_count": 44,
   "id": "unlimited-implementation",
   "metadata": {},
   "outputs": [
    {
     "name": "stdout",
     "output_type": "stream",
     "text": [
      "16:01\n",
      "champagne problems\n",
      "long story short\n",
      "coney island (feat. The National)\n",
      "dorothea\n"
     ]
    }
   ],
   "source": [
    "if not quadTest(time_dict, len(time_dict), ttl):\n",
    "    print(\":( at least i'm trying\")\n"
   ]
  },
  {
   "cell_type": "code",
   "execution_count": null,
   "id": "involved-baseball",
   "metadata": {},
   "outputs": [],
   "source": []
  }
 ],
 "metadata": {
  "kernelspec": {
   "display_name": "Python 3",
   "language": "python",
   "name": "python3"
  },
  "language_info": {
   "codemirror_mode": {
    "name": "ipython",
    "version": 3
   },
   "file_extension": ".py",
   "mimetype": "text/x-python",
   "name": "python",
   "nbconvert_exporter": "python",
   "pygments_lexer": "ipython3",
   "version": "3.9.1"
  }
 },
 "nbformat": 4,
 "nbformat_minor": 5
}
